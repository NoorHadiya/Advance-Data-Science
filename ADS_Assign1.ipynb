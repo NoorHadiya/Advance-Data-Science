{
  "nbformat": 4,
  "nbformat_minor": 0,
  "metadata": {
    "colab": {
      "provenance": [],
      "authorship_tag": "ABX9TyMimUbKsvW1/9rPu2tU+sbF",
      "include_colab_link": true
    },
    "kernelspec": {
      "name": "python3",
      "display_name": "Python 3"
    },
    "language_info": {
      "name": "python"
    }
  },
  "cells": [
    {
      "cell_type": "markdown",
      "metadata": {
        "id": "view-in-github",
        "colab_type": "text"
      },
      "source": [
        "<a href=\"https://colab.research.google.com/github/NoorHadiya/Advance-Data-Science/blob/main/ADS_Assign1.ipynb\" target=\"_parent\"><img src=\"https://colab.research.google.com/assets/colab-badge.svg\" alt=\"Open In Colab\"/></a>"
      ]
    },
    {
      "cell_type": "code",
      "execution_count": 1,
      "metadata": {
        "id": "qImE1bp0t-pn"
      },
      "outputs": [],
      "source": [
        "import spacy\n",
        "from spacy.matcher import Matcher"
      ]
    },
    {
      "cell_type": "code",
      "source": [
        "nlp = spacy.load(\"en_core_web_sm\")"
      ],
      "metadata": {
        "id": "B7NItJG_uGbA"
      },
      "execution_count": 2,
      "outputs": []
    },
    {
      "cell_type": "code",
      "source": [
        "input_file_path =\"/content/Input file.txt\"\n",
        "output_file_path =\"/content/Output file.txt\""
      ],
      "metadata": {
        "id": "oGNgFs7WuIiA"
      },
      "execution_count": 3,
      "outputs": []
    },
    {
      "cell_type": "code",
      "source": [
        "with open(input_file_path, \"r\") as f:\n",
        " text = f.read()"
      ],
      "metadata": {
        "id": "jmX3K9A1udl_"
      },
      "execution_count": 4,
      "outputs": []
    },
    {
      "cell_type": "code",
      "source": [
        "doc = nlp(text)"
      ],
      "metadata": {
        "id": "yUdLDk5Hufi-"
      },
      "execution_count": 5,
      "outputs": []
    },
    {
      "cell_type": "code",
      "source": [
        "entities = []"
      ],
      "metadata": {
        "id": "Mb2HCLd5uin_"
      },
      "execution_count": 6,
      "outputs": []
    },
    {
      "cell_type": "code",
      "source": [
        "for ent in doc.ents:\n",
        "    # Append the named entity to the list\n",
        "    entities.append((ent.text, ent.start_char, ent.end_char, ent.label_))"
      ],
      "metadata": {
        "id": "BVRtJaE3ukRO"
      },
      "execution_count": 7,
      "outputs": []
    },
    {
      "cell_type": "code",
      "source": [
        "with open(output_file_path, \"w\") as f:\n",
        "    for ent in entities:\n",
        "        f.write(f\"{ent[0]} {ent[1]} {ent[2]} {ent[3]}\\n\")"
      ],
      "metadata": {
        "id": "AdhRSq5dumS0"
      },
      "execution_count": 8,
      "outputs": []
    },
    {
      "cell_type": "code",
      "source": [
        "print(\"Named entities have been written to the output file.\")"
      ],
      "metadata": {
        "colab": {
          "base_uri": "https://localhost:8080/"
        },
        "id": "YU2RUHZFuoVF",
        "outputId": "ee90109b-3695-4904-ea36-f2c37f3ec5f5"
      },
      "execution_count": 9,
      "outputs": [
        {
          "output_type": "stream",
          "name": "stdout",
          "text": [
            "Named entities have been written to the output file.\n"
          ]
        }
      ]
    },
    {
      "cell_type": "code",
      "source": [],
      "metadata": {
        "id": "srDeVuTEurrj"
      },
      "execution_count": null,
      "outputs": []
    }
  ]
}